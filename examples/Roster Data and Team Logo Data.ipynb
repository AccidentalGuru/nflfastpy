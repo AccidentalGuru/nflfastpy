{
 "metadata": {
  "language_info": {
   "codemirror_mode": {
    "name": "ipython",
    "version": 3
   },
   "file_extension": ".py",
   "mimetype": "text/x-python",
   "name": "python",
   "nbconvert_exporter": "python",
   "pygments_lexer": "ipython3",
   "version": "3.8.5-final"
  },
  "orig_nbformat": 2,
  "kernelspec": {
   "name": "python38564bitf099fd81223240af961e35a63b31720c",
   "display_name": "Python 3.8.5 64-bit"
  }
 },
 "nbformat": 4,
 "nbformat_minor": 2,
 "cells": [
  {
   "cell_type": "code",
   "execution_count": 4,
   "metadata": {},
   "outputs": [],
   "source": [
    "import nflfastpy\n",
    "from nflfastpy.utils import convert_to_gsis_id\n",
    "from nflfastpy import default_headshot\n",
    "from matplotlib import pyplot as plt\n",
    "import pandas as pd\n",
    "import seaborn as sns\n",
    "import requests"
   ]
  },
  {
   "cell_type": "code",
   "execution_count": 10,
   "metadata": {},
   "outputs": [],
   "source": [
    "df = nflfastpy.load_pbp_data(year=2020)\n",
    "roster_df = nflfastpy.load_roster_data()\n",
    "team_logo_df = nflfastpy.load_team_logo_data()"
   ]
  },
  {
   "cell_type": "code",
   "execution_count": 11,
   "metadata": {},
   "outputs": [
    {
     "output_type": "execute_result",
     "data": {
      "text/plain": [
       "                        receiver_player_id receiver_player_name posteam  \\\n",
       "947   32013030-2d30-3033-3330-3430e890f1ff               T.Hill      KC   \n",
       "968   32013030-2d30-3033-3330-3430e890f1ff               T.Hill      KC   \n",
       "1006  32013030-2d30-3033-3330-3430e890f1ff               T.Hill      KC   \n",
       "1011  32013030-2d30-3033-3330-3430e890f1ff               T.Hill      KC   \n",
       "1029  32013030-2d30-3033-3330-3430e890f1ff               T.Hill      KC   \n",
       "\n",
       "      air_yards     gsis_id  \n",
       "947         3.0  00-0033040  \n",
       "968        24.0  00-0033040  \n",
       "1006        5.0  00-0033040  \n",
       "1011        0.0  00-0033040  \n",
       "1029       14.0  00-0033040  "
      ],
      "text/html": "<div>\n<style scoped>\n    .dataframe tbody tr th:only-of-type {\n        vertical-align: middle;\n    }\n\n    .dataframe tbody tr th {\n        vertical-align: top;\n    }\n\n    .dataframe thead th {\n        text-align: right;\n    }\n</style>\n<table border=\"1\" class=\"dataframe\">\n  <thead>\n    <tr style=\"text-align: right;\">\n      <th></th>\n      <th>receiver_player_id</th>\n      <th>receiver_player_name</th>\n      <th>posteam</th>\n      <th>air_yards</th>\n      <th>gsis_id</th>\n    </tr>\n  </thead>\n  <tbody>\n    <tr>\n      <th>947</th>\n      <td>32013030-2d30-3033-3330-3430e890f1ff</td>\n      <td>T.Hill</td>\n      <td>KC</td>\n      <td>3.0</td>\n      <td>00-0033040</td>\n    </tr>\n    <tr>\n      <th>968</th>\n      <td>32013030-2d30-3033-3330-3430e890f1ff</td>\n      <td>T.Hill</td>\n      <td>KC</td>\n      <td>24.0</td>\n      <td>00-0033040</td>\n    </tr>\n    <tr>\n      <th>1006</th>\n      <td>32013030-2d30-3033-3330-3430e890f1ff</td>\n      <td>T.Hill</td>\n      <td>KC</td>\n      <td>5.0</td>\n      <td>00-0033040</td>\n    </tr>\n    <tr>\n      <th>1011</th>\n      <td>32013030-2d30-3033-3330-3430e890f1ff</td>\n      <td>T.Hill</td>\n      <td>KC</td>\n      <td>0.0</td>\n      <td>00-0033040</td>\n    </tr>\n    <tr>\n      <th>1029</th>\n      <td>32013030-2d30-3033-3330-3430e890f1ff</td>\n      <td>T.Hill</td>\n      <td>KC</td>\n      <td>14.0</td>\n      <td>00-0033040</td>\n    </tr>\n  </tbody>\n</table>\n</div>"
     },
     "metadata": {},
     "execution_count": 11
    }
   ],
   "source": [
    "roster_df = roster_df.loc[roster_df['team.season'] == 2019]\n",
    "\n",
    "air_yards_df = df.loc[df['pass_attempt'] == 1, ['receiver_player_id', 'receiver_player_name', 'posteam', 'air_yards']]\n",
    "\n",
    "air_yards_df = air_yards_df.loc[air_yards_df['receiver_player_id'].notnull()]\n",
    "\n",
    "air_yards_df['gsis_id'] = air_yards_df['receiver_player_id'].apply(convert_to_gsis_id)\n",
    "\n",
    "#grabbing the top 5 air yards\n",
    "top_5 = air_yards_df.groupby('gsis_id')['air_yards'].sum().sort_values(ascending=False)[:5].index.unique()\n",
    "\n",
    "air_yards_df = air_yards_df.loc[air_yards_df['gsis_id'].isin(top_5_air_yards)]\n",
    "\n",
    "air_yards_df.head()"
   ]
  },
  {
   "cell_type": "code",
   "execution_count": 12,
   "metadata": {},
   "outputs": [
    {
     "output_type": "execute_result",
     "data": {
      "text/plain": [
       "array(['T.Hill', 'S.Diggs', 'C.Ridley', 'D.Metcalf', 'J.Jeudy'],\n",
       "      dtype=object)"
      ]
     },
     "metadata": {},
     "execution_count": 12
    }
   ],
   "source": [
    "air_yards_df['receiver_player_name'].unique()"
   ]
  },
  {
   "cell_type": "code",
   "execution_count": 4,
   "metadata": {},
   "outputs": [
    {
     "output_type": "error",
     "ename": "IndexError",
     "evalue": "index 0 is out of bounds for axis 0 with size 0",
     "traceback": [
      "\u001b[0;31m---------------------------------------------------------------------------\u001b[0m",
      "\u001b[0;31mIndexError\u001b[0m                                Traceback (most recent call last)",
      "\u001b[0;32m<ipython-input-4-ba811ca0c23b>\u001b[0m in \u001b[0;36m<module>\u001b[0;34m\u001b[0m\n\u001b[1;32m      9\u001b[0m     \u001b[0mplayer_roster_data\u001b[0m \u001b[0;34m=\u001b[0m \u001b[0mroster_df\u001b[0m\u001b[0;34m.\u001b[0m\u001b[0mloc\u001b[0m\u001b[0;34m[\u001b[0m\u001b[0mroster_df\u001b[0m\u001b[0;34m[\u001b[0m\u001b[0;34m'teamPlayers.gsisId'\u001b[0m\u001b[0;34m]\u001b[0m \u001b[0;34m==\u001b[0m \u001b[0mplayer_gsis_id\u001b[0m\u001b[0;34m]\u001b[0m\u001b[0;34m\u001b[0m\u001b[0;34m\u001b[0m\u001b[0m\n\u001b[1;32m     10\u001b[0m     \u001b[0mteam_logo_data\u001b[0m \u001b[0;34m=\u001b[0m \u001b[0mteam_logo_df\u001b[0m\u001b[0;34m.\u001b[0m\u001b[0mloc\u001b[0m\u001b[0;34m[\u001b[0m\u001b[0mteam_logo_df\u001b[0m\u001b[0;34m[\u001b[0m\u001b[0;34m'team_abbr'\u001b[0m\u001b[0;34m]\u001b[0m \u001b[0;34m==\u001b[0m \u001b[0mplayer_df\u001b[0m\u001b[0;34m[\u001b[0m\u001b[0;34m'posteam'\u001b[0m\u001b[0;34m]\u001b[0m\u001b[0;34m.\u001b[0m\u001b[0mvalues\u001b[0m\u001b[0;34m[\u001b[0m\u001b[0;36m0\u001b[0m\u001b[0;34m]\u001b[0m\u001b[0;34m]\u001b[0m\u001b[0;34m\u001b[0m\u001b[0;34m\u001b[0m\u001b[0m\n\u001b[0;32m---> 11\u001b[0;31m     \u001b[0mplayer_headshot\u001b[0m \u001b[0;34m=\u001b[0m \u001b[0mplayer_roster_data\u001b[0m\u001b[0;34m[\u001b[0m\u001b[0;34m'teamPlayers.headshot_url'\u001b[0m\u001b[0;34m]\u001b[0m\u001b[0;34m.\u001b[0m\u001b[0mvalues\u001b[0m\u001b[0;34m[\u001b[0m\u001b[0;36m0\u001b[0m\u001b[0;34m]\u001b[0m\u001b[0;34m\u001b[0m\u001b[0;34m\u001b[0m\u001b[0m\n\u001b[0m\u001b[1;32m     12\u001b[0m     \u001b[0mteam_color_1\u001b[0m \u001b[0;34m=\u001b[0m \u001b[0mteam_logo_data\u001b[0m\u001b[0;34m[\u001b[0m\u001b[0;34m'team_color'\u001b[0m\u001b[0;34m]\u001b[0m\u001b[0;34m.\u001b[0m\u001b[0mvalues\u001b[0m\u001b[0;34m[\u001b[0m\u001b[0;36m0\u001b[0m\u001b[0;34m]\u001b[0m\u001b[0;34m\u001b[0m\u001b[0;34m\u001b[0m\u001b[0m\n\u001b[1;32m     13\u001b[0m     \u001b[0mteam_color_2\u001b[0m \u001b[0;34m=\u001b[0m \u001b[0mteam_logo_data\u001b[0m\u001b[0;34m[\u001b[0m\u001b[0;34m'team_color2'\u001b[0m\u001b[0;34m]\u001b[0m\u001b[0;34m.\u001b[0m\u001b[0mvalues\u001b[0m\u001b[0;34m[\u001b[0m\u001b[0;36m0\u001b[0m\u001b[0;34m]\u001b[0m\u001b[0;34m\u001b[0m\u001b[0;34m\u001b[0m\u001b[0m\n",
      "\u001b[0;31mIndexError\u001b[0m: index 0 is out of bounds for axis 0 with size 0"
     ]
    }
   ],
   "source": [
    "fig, axes = plt.subplots(5, 2, figsize=(10, 20))\n",
    "\n",
    "for i, row in enumerate(axes):\n",
    "    \n",
    "    ax1, ax2 = row[0], row[1]\n",
    "    \n",
    "    player_gsis_id = top_5_air_yards[i]\n",
    "    player_df = air_yards_df.loc[air_yards_df['gsis_id'] == player_gsis_id]\n",
    "    player_roster_data = roster_df.loc[roster_df['teamPlayers.gsisId'] == player_gsis_id]\n",
    "\n",
    "    if player_roster_data.empty():\n",
    "        break\n",
    "\n",
    "    team_logo_data = team_logo_df.loc[team_logo_df['team_abbr'] == player_df['posteam'].values[0]]\n",
    "    player_headshot = player_roster_data['teamPlayers.headshot_url'].values[0]\n",
    "    team_color_1 = team_logo_data['team_color'].values[0]\n",
    "    team_color_2 = team_logo_data['team_color2'].values[0]\n",
    "    \n",
    "    a = plt.imread(player_headshot)\n",
    "    ax1.imshow(a)\n",
    "    ax1.axis('off')\n",
    "    sns.kdeplot(player_df['air_yards'], color=team_color_2, ax=ax2)\n",
    "    x = ax2.get_lines()[0].get_xydata()[:, 0]\n",
    "    y = ax2.get_lines()[0].get_xydata()[:, 1]\n",
    "    ax2.set_xticks(range(-10, 60, 10))\n",
    "    ax2.fill_between(x, y, color=team_color_1, alpha=0.5)\n",
    "\n",
    "plt.show();"
   ]
  },
  {
   "cell_type": "code",
   "execution_count": null,
   "metadata": {},
   "outputs": [],
   "source": []
  }
 ]
}