{
 "cells": [
  {
   "cell_type": "code",
   "execution_count": 63,
   "metadata": {},
   "outputs": [],
   "source": [
    "import nflfastpy\n",
    "from nflfastpy.utils import convert_to_gsis_id"
   ]
  },
  {
   "cell_type": "code",
   "execution_count": 76,
   "metadata": {},
   "outputs": [],
   "source": [
    "roster_df = nflfastpy.load_roster_data()\n",
    "roster_df = roster_df.loc[roster_df['team.season'] == 2019]"
   ]
  },
  {
   "cell_type": "code",
   "execution_count": 80,
   "metadata": {},
   "outputs": [
    {
     "data": {
      "text/html": [
       "<div>\n",
       "<style scoped>\n",
       "    .dataframe tbody tr th:only-of-type {\n",
       "        vertical-align: middle;\n",
       "    }\n",
       "\n",
       "    .dataframe tbody tr th {\n",
       "        vertical-align: top;\n",
       "    }\n",
       "\n",
       "    .dataframe thead th {\n",
       "        text-align: right;\n",
       "    }\n",
       "</style>\n",
       "<table border=\"1\" class=\"dataframe\">\n",
       "  <thead>\n",
       "    <tr style=\"text-align: right;\">\n",
       "      <th></th>\n",
       "      <th>receiver_player_name</th>\n",
       "      <th>receiver_player_id</th>\n",
       "      <th>teamPlayers.gsisId</th>\n",
       "      <th>teamPlayers.headshot_url</th>\n",
       "      <th>air_yards</th>\n",
       "    </tr>\n",
       "  </thead>\n",
       "  <tbody>\n",
       "    <tr>\n",
       "      <th>0</th>\n",
       "      <td>G.Kittle</td>\n",
       "      <td>32013030-2d30-3033-3332-383818d98dc1</td>\n",
       "      <td>00-0033288</td>\n",
       "      <td>http://static.nfl.com/static/content/public/st...</td>\n",
       "      <td>4.0</td>\n",
       "    </tr>\n",
       "    <tr>\n",
       "      <th>1</th>\n",
       "      <td>G.Kittle</td>\n",
       "      <td>32013030-2d30-3033-3332-383818d98dc1</td>\n",
       "      <td>00-0033288</td>\n",
       "      <td>http://static.nfl.com/static/content/public/st...</td>\n",
       "      <td>10.0</td>\n",
       "    </tr>\n",
       "    <tr>\n",
       "      <th>2</th>\n",
       "      <td>D.Hopkins</td>\n",
       "      <td>32013030-2d30-3033-3035-3634b926c47f</td>\n",
       "      <td>00-0030564</td>\n",
       "      <td>http://static.nfl.com/static/content/public/st...</td>\n",
       "      <td>3.0</td>\n",
       "    </tr>\n",
       "    <tr>\n",
       "      <th>3</th>\n",
       "      <td>L.Fitzgerald</td>\n",
       "      <td>32013030-2d30-3032-3239-323176c2a1fa</td>\n",
       "      <td>00-0022921</td>\n",
       "      <td>http://static.nfl.com/static/content/public/st...</td>\n",
       "      <td>6.0</td>\n",
       "    </tr>\n",
       "    <tr>\n",
       "      <th>4</th>\n",
       "      <td>L.Fitzgerald</td>\n",
       "      <td>32013030-2d30-3032-3239-323176c2a1fa</td>\n",
       "      <td>00-0022921</td>\n",
       "      <td>http://static.nfl.com/static/content/public/st...</td>\n",
       "      <td>4.0</td>\n",
       "    </tr>\n",
       "  </tbody>\n",
       "</table>\n",
       "</div>"
      ],
      "text/plain": [
       "  receiver_player_name                    receiver_player_id  \\\n",
       "0             G.Kittle  32013030-2d30-3033-3332-383818d98dc1   \n",
       "1             G.Kittle  32013030-2d30-3033-3332-383818d98dc1   \n",
       "2            D.Hopkins  32013030-2d30-3033-3035-3634b926c47f   \n",
       "3         L.Fitzgerald  32013030-2d30-3032-3239-323176c2a1fa   \n",
       "4         L.Fitzgerald  32013030-2d30-3032-3239-323176c2a1fa   \n",
       "\n",
       "  teamPlayers.gsisId                           teamPlayers.headshot_url  \\\n",
       "0         00-0033288  http://static.nfl.com/static/content/public/st...   \n",
       "1         00-0033288  http://static.nfl.com/static/content/public/st...   \n",
       "2         00-0030564  http://static.nfl.com/static/content/public/st...   \n",
       "3         00-0022921  http://static.nfl.com/static/content/public/st...   \n",
       "4         00-0022921  http://static.nfl.com/static/content/public/st...   \n",
       "\n",
       "   air_yards  \n",
       "0        4.0  \n",
       "1       10.0  \n",
       "2        3.0  \n",
       "3        6.0  \n",
       "4        4.0  "
      ]
     },
     "execution_count": 80,
     "metadata": {},
     "output_type": "execute_result"
    }
   ],
   "source": [
    "df = nflfastpy.load_pbp_data(year='2020')\n",
    "\n",
    "df = df.loc[(df['pass_attempt'] == 1) & (df['receiver_player_id'].notnull()), ['receiver_player_name', 'air_yards', 'receiver_player_id']]\n",
    "\n",
    "df['teamPlayers.gsisId'] = df['receiver_player_id'].apply(convert_to_gsis_id)\n",
    "\n",
    "df = df.merge(roster_df, how='left', on='teamPlayers.gsisId')\n",
    "\n",
    "df[['receiver_player_name', 'receiver_player_id', 'teamPlayers.gsisId', 'teamPlayers.headshot_url', 'air_yards']].head()"
   ]
  },
  {
   "cell_type": "code",
   "execution_count": null,
   "metadata": {},
   "outputs": [],
   "source": []
  }
 ],
 "metadata": {
  "kernelspec": {
   "display_name": "Python 3",
   "language": "python",
   "name": "python3"
  },
  "language_info": {
   "codemirror_mode": {
    "name": "ipython",
    "version": 3
   },
   "file_extension": ".py",
   "mimetype": "text/x-python",
   "name": "python",
   "nbconvert_exporter": "python",
   "pygments_lexer": "ipython3",
   "version": "3.8.5"
  }
 },
 "nbformat": 4,
 "nbformat_minor": 4
}
